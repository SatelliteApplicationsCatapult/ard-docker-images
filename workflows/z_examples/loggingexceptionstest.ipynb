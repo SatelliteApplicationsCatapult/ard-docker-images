{
 "cells": [
  {
   "cell_type": "code",
   "execution_count": 1,
   "metadata": {},
   "outputs": [],
   "source": [
    "%load_ext autoreload\n",
    "%autoreload 2\n",
    "%matplotlib inline"
   ]
  },
  {
   "cell_type": "markdown",
   "metadata": {},
   "source": [
    "## Master Template for processing each dataset\n",
    "- Sentinel-2 (in order of priority)\n",
    " - **L2A via GCloud**: in testing\n",
    " - **L1C via GCloud processed to L2A**: under development\n",
    " - L1C via ESA processed to L2A: partially tested\n",
    " - L2A via ESA: partially tested\n",
    " - L1C via GCloud: partially tested\n",
    " - L1C via ESA: partiall tested"
   ]
  },
  {
   "cell_type": "code",
   "execution_count": 2,
   "metadata": {},
   "outputs": [],
   "source": [
    "import os\n",
    "import logging"
   ]
  },
  {
   "cell_type": "code",
   "execution_count": 21,
   "metadata": {},
   "outputs": [],
   "source": [
    "\n",
    "in_scene, scene_name = 't','j'\n",
    "\n",
    "log_file = './log_file28.txt'\n",
    "handler = logging.handlers.WatchedFileHandler(log_file)\n",
    "formatter = logging.Formatter('%(asctime)s - %(levelname)s - %(message)s')\n",
    "handler.setFormatter(formatter)\n",
    "root = logging.getLogger()\n",
    "root.setLevel(os.environ.get(\"LOGLEVEL\", \"DEBUG\"))\n",
    "root.addHandler(handler)\n",
    "\n",
    "root.info('{} {} Starting'.format(in_scene, scene_name))\n",
    "\n",
    "try:\n",
    "    root.info(\"S2 Product Download\")\n",
    "    try:\n",
    "        root.info(\"Downloading from Google Cloud...\")\n",
    "        raise Exception('Google Cloud Download')\n",
    "        root.info(\"Downloaded from Google Cloud\")\n",
    "    except:\n",
    "        logging.exception(\"Download from Google Cloud FAILED\")\n",
    "        try:\n",
    "            root.info(\"Downloading from ESA...\")\n",
    "            raise Exception('ESA Download')\n",
    "            root.info(\"Downloaded from ESA\")\n",
    "        except:\n",
    "            root.exception(\"Download from ESA FAILED\")\n",
    "            raise Exception('S2 Product Download Failed')\n",
    "\n",
    "except :\n",
    "    root.exception(\"S2 Product could not be downloaded\")"
   ]
  },
  {
   "cell_type": "code",
   "execution_count": 18,
   "metadata": {},
   "outputs": [],
   "source": [
    "in_scene, scene_name = 't','j'\n",
    "\n",
    "log_file = './log_file26.txt'\n",
    "handler = logging.handlers.WatchedFileHandler(log_file)\n",
    "formatter = logging.Formatter('%(asctime)s - %(levelname)s - %(message)s')\n",
    "handler.setFormatter(formatter)\n",
    "root = logging.getLogger()\n",
    "root.setLevel(os.environ.get(\"LOGLEVEL\", \"DEBUG\"))\n",
    "root.addHandler(handler)\n",
    "\n",
    "root.info('{} {} Starting'.format(in_scene, scene_name))\n",
    "\n",
    "try:\n",
    "    try:\n",
    "        root.info(f\"{in_scene} {scene_name} DOWNLOADING via GCloud\")\n",
    "        raise Exception('one')\n",
    "        root.info(f\"{in_scene} {scene_name} DOWNLOADED via GCloud\")\n",
    "    except Exception(\"Download Error GCloud\"):\n",
    "        root.exception(f\"{in_scene} {scene_name} UNAVAILABLE via GCloud, try ESA\")\n",
    "        try:\n",
    "            raise Exception('two')\n",
    "        except Exception(\"Download\"):\n",
    "            root.exception(f\"{in_scene} {scene_name} UNAVAILABLE via ESA too\")\n",
    "            raise Exception('three')\n",
    "    print('not working')\n",
    "except:\n",
    "    root.exception('{} {} Processing Failed'.format(in_scene, scene_name))"
   ]
  },
  {
   "cell_type": "code",
   "execution_count": 13,
   "metadata": {},
   "outputs": [],
   "source": [
    "in_scene, scene_name = 't','j'\n",
    "\n",
    "log_file = './log_file22.txt'\n",
    "handler = logging.handlers.WatchedFileHandler(log_file)\n",
    "formatter = logging.Formatter('%(asctime)s - %(levelname)s - %(message)s')\n",
    "handler.setFormatter(formatter)\n",
    "root = logging.getLogger()\n",
    "root.setLevel(os.environ.get(\"LOGLEVEL\", \"DEBUG\"))\n",
    "root.addHandler(handler)\n",
    "\n",
    "root.info('{} {} Starting'.format(in_scene, scene_name))\n",
    "\n",
    "try:\n",
    "        \n",
    "    try:\n",
    "        root.info('{} {} DOWNLOADING via GCloud'.format(in_scene, scene_name))\n",
    "        raise Exception('Download Error GCloud')\n",
    "    except:\n",
    "        root.exception('{} {} UNAVAILABLE via GCloud, try ESA'.format(in_scene, scene_name))  \n",
    "        raise Exception('Download Error ESA')\n",
    "\n",
    "        \n",
    "    print('Exceptions not working')\n",
    "        \n",
    "except:\n",
    "    root.exception('{} {} Processing Failed'.format(in_scene, scene_name))\n",
    "\n"
   ]
  },
  {
   "cell_type": "code",
   "execution_count": 6,
   "metadata": {},
   "outputs": [
    {
     "name": "stdout",
     "output_type": "stream",
     "text": [
      "level 1\n",
      "level 1-2\n",
      "except level 1-2\n",
      "level 2-2\n",
      "except level 2-2\n",
      "except level 1\n"
     ]
    }
   ],
   "source": [
    "try:\n",
    "    \n",
    "    print(\"level 1\")\n",
    "    try:\n",
    "        print(\"level 1-2\")\n",
    "        raise \n",
    "    except:\n",
    "        print(\"except level 1-2\")\n",
    "    try:\n",
    "        print(\"level 2-2\")\n",
    "        raise \n",
    "    except:\n",
    "        print(\"except level 2-2\")\n",
    "        raise\n",
    "        \n",
    "    print('hey')\n",
    " \n",
    "except:\n",
    "    print(\"except level 1\")"
   ]
  },
  {
   "cell_type": "code",
   "execution_count": null,
   "metadata": {},
   "outputs": [],
   "source": []
  }
 ],
 "metadata": {
  "kernelspec": {
   "display_name": "Python 3",
   "language": "python",
   "name": "python3"
  },
  "language_info": {
   "codemirror_mode": {
    "name": "ipython",
    "version": 3
   },
   "file_extension": ".py",
   "mimetype": "text/x-python",
   "name": "python",
   "nbconvert_exporter": "python",
   "pygments_lexer": "ipython3",
   "version": "3.7.4"
  }
 },
 "nbformat": 4,
 "nbformat_minor": 4
}
