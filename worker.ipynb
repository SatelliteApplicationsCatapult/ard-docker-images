{
 "cells": [
  {
   "cell_type": "markdown",
   "metadata": {},
   "source": [
    "# Debug notebook\n",
    "This notebook is only used to troubleshoot the S2 scene workflow processor."
   ]
  },
  {
   "cell_type": "code",
   "execution_count": 1,
   "metadata": {},
   "outputs": [],
   "source": [
    "import os\n",
    "import glob\n",
    "import shutil\n",
    "from datetime import datetime\n",
    "import pandas as pd\n",
    "import time\n",
    "\n",
    "from utils.prepS2 import *\n",
    "from utils.yamlUtils import *"
   ]
  },
  {
   "cell_type": "code",
   "execution_count": 2,
   "metadata": {},
   "outputs": [],
   "source": [
    "non_cogs_dir = \"/data/S2_Download/\"\n",
    "cogs_dir = \"/data/S2_ARD/\"\n",
    "sen2cor_8 = \"/Sen2Cor-02.08.00-Linux64/bin/L2A_Process\"\n",
    "sen2cor_5 = \"/Sen2Cor-02.08.00-Linux64/bin/L2A_Process\"\n",
    "\n",
    "s3_bucket = \"public-eo-data\"\n",
    "s3_dir = \"catapult/sentinel2/\"\n",
    "\n",
    "access_key = os.getenv(\"AWS_ACCESS_KEY\")\n",
    "secret_key = os.getenv(\"AWS_SECRET_KEY\")"
   ]
  },
  {
   "cell_type": "code",
   "execution_count": 3,
   "metadata": {},
   "outputs": [],
   "source": [
    "os.makedirs(non_cogs_dir, exist_ok=True)\n",
    "os.makedirs(cogs_dir, exist_ok=True)"
   ]
  },
  {
   "cell_type": "code",
   "execution_count": 4,
   "metadata": {},
   "outputs": [],
   "source": [
    "def process_scene(des_scene):    \n",
    "    # shorten scene name\n",
    "    scene_name = des_scene[:-21]\n",
    "    scene_name = scene_name[:-17] + scene_name.split('_')[-1]\n",
    "    print ( 'Scene name: {}'.format(scene_name) )\n",
    "\n",
    "    # find uuid for download via esa hub\n",
    "    s2id = find_s2_uuid(des_scene)\n",
    "\n",
    "    down_dir = non_cogs_dir + des_scene + '/'\n",
    "    print ( 'Download scene dir: {}'.format(down_dir) )\n",
    "    print ( 'Time: {}'.format(str(datetime.today().strftime('%Y-%m-%d %H:%M:%S'))) )\n",
    "    #download_s2_granule_gcloud(des_scene, non_cogs_dir)\n",
    "    download_extract_s2_esa(s2id, non_cogs_dir, down_dir) # using esa due to gcloud metadata issues + sedas confidence\n",
    "\n",
    "    print ( 'Time: {}'.format(str(datetime.today().strftime('%Y-%m-%d %H:%M:%S'))) )\n",
    "\n",
    "    # process to l2a\n",
    "    l2a_dir = down_dir.replace('_MSIL1C', '_MSIL2A')\n",
    "    print ( 'L2A temp dir: {}'.format(l2a_dir) )\n",
    "    if not os.path.exists(l2a_dir):\n",
    "        sen2cor_correction(sen2cor_8, down_dir, non_cogs_dir) # May need to include try of version 2.5 before certain date - to be determined...\n",
    "\n",
    "    print ( 'Time: {}'.format(str(datetime.today().strftime('%Y-%m-%d %H:%M:%S'))) )\n",
    "\n",
    "    # convert to cog\n",
    "    cog_dir = cogs_dir + scene_name.replace('_MSIL1C', '_MSIL2A') + '/'\n",
    "    print ( 'COG dir: {}'.format(cog_dir) )\n",
    "    conv_s2scene_cogs(l2a_dir, cog_dir, scene_name.replace('_MSIL1C', '_MSIL2A'))\n",
    "\n",
    "    copy_s2_metadata(l2a_dir, cog_dir, scene_name.replace('_MSIL1C', '_MSIL2A'))\n",
    "\n",
    "    create_yaml(cog_dir, 's2')\n",
    "\n",
    "    print ( 'Time: {}'.format(str(datetime.today().strftime('%Y-%m-%d %H:%M:%S'))) )"
   ]
  },
  {
   "cell_type": "code",
   "execution_count": 5,
   "metadata": {},
   "outputs": [
    {
     "name": "stdout",
     "output_type": "stream",
     "text": [
      "Worker with sessionID: 2cc7106e-3651-49e0-b7da-7d14738f5e9a\n",
      "Initial queue state: empty=False\n"
     ]
    }
   ],
   "source": [
    "import rediswq\n",
    "\n",
    "host=\"redis\"\n",
    "# Uncomment next two lines if you do not have Kube-DNS working.\n",
    "# import os\n",
    "# host = os.getenv(\"REDIS_SERVICE_HOST\")\n",
    "\n",
    "q = rediswq.RedisWQ(name=\"job2\", host=host)\n",
    "print(\"Worker with sessionID: \" +  q.sessionID())\n",
    "print(\"Initial queue state: empty=\" + str(q.empty()))"
   ]
  },
  {
   "cell_type": "code",
   "execution_count": 6,
   "metadata": {},
   "outputs": [
    {
     "name": "stdout",
     "output_type": "stream",
     "text": [
      "Working on S2A_MSIL1C_20180820T223011_N0206_R072_T60KWE_20180821T013410.SAFE\n",
      "Scene name: S2A_MSIL1C_20180820T223011_T60KWE\n",
      "Download scene dir: ./S2_Download/S2A_MSIL1C_20180820T223011_N0206_R072_T60KWE_20180821T013410.SAFE/\n",
      "Time: 2019-08-30 07:37:06\n",
      "Downloading ESA scene zip: \n"
     ]
    },
    {
     "name": "stderr",
     "output_type": "stream",
     "text": [
      "Downloading: 100%|██████████| 589M/589M [13:09<00:00, 711kB/s] \n",
      "MD5 checksumming: 100%|██████████| 589M/589M [00:02<00:00, 258MB/s] \n"
     ]
    },
    {
     "name": "stdout",
     "output_type": "stream",
     "text": [
      "Extracting ESA scene: ./S2_Download/S2A_MSIL1C_20180820T223011_N0206_R072_T60KWE_20180821T013410.SAFE/\n",
      "Deleting ESA scene zip: ./S2_Download/S2A_MSIL1C_20180820T223011_N0206_R072_T60KWE_20180821T013410.zip\n",
      "Time: 2019-08-30 07:50:21\n",
      "L2A temp dir: ./S2_Download/S2A_MSIL2A_20180820T223011_N0206_R072_T60KWE_20180821T013410.SAFE/\n",
      "/Sen2Cor-02.08.00-Linux64/bin/L2A_Process --output_dir ./S2_Download/ ./S2_Download/S2A_MSIL1C_20180820T223011_N0206_R072_T60KWE_20180821T013410.SAFE/\n",
      "Time: 2019-08-30 08:13:59\n",
      "COG dir: ./S2_ARD/S2A_MSIL2A_20180820T223011_T60KWE/\n",
      "Creating scene cog directory: ./S2_ARD/S2A_MSIL2A_20180820T223011_T60KWE/\n",
      "./S2_Download/S2A_MSIL2A_20180820T223011_N0206_R072_T60KWE_20180821T013410.SAFE/GRANULE/L2A_T60KWE_A016514_20180820T223008/IMG_DATA/R60m/T60KWE_20180820T223011_B09_60m.jp2 ./S2_ARD/S2A_MSIL2A_20180820T223011_T60KWE/S2A_MSIL2A_20180820T223011_T60KWE_B09_60m.tif\n",
      "./S2_Download/S2A_MSIL2A_20180820T223011_N0206_R072_T60KWE_20180821T013410.SAFE/GRANULE/L2A_T60KWE_A016514_20180820T223008/IMG_DATA/R60m/T60KWE_20180820T223011_B01_60m.jp2 ./S2_ARD/S2A_MSIL2A_20180820T223011_T60KWE/S2A_MSIL2A_20180820T223011_T60KWE_B01_60m.tif\n",
      "./S2_Download/S2A_MSIL2A_20180820T223011_N0206_R072_T60KWE_20180821T013410.SAFE/GRANULE/L2A_T60KWE_A016514_20180820T223008/IMG_DATA/R10m/T60KWE_20180820T223011_B02_10m.jp2 ./S2_ARD/S2A_MSIL2A_20180820T223011_T60KWE/S2A_MSIL2A_20180820T223011_T60KWE_B02_10m.tif\n",
      "./S2_Download/S2A_MSIL2A_20180820T223011_N0206_R072_T60KWE_20180821T013410.SAFE/GRANULE/L2A_T60KWE_A016514_20180820T223008/IMG_DATA/R10m/T60KWE_20180820T223011_B04_10m.jp2 ./S2_ARD/S2A_MSIL2A_20180820T223011_T60KWE/S2A_MSIL2A_20180820T223011_T60KWE_B04_10m.tif\n",
      "./S2_Download/S2A_MSIL2A_20180820T223011_N0206_R072_T60KWE_20180821T013410.SAFE/GRANULE/L2A_T60KWE_A016514_20180820T223008/IMG_DATA/R10m/T60KWE_20180820T223011_B08_10m.jp2 ./S2_ARD/S2A_MSIL2A_20180820T223011_T60KWE/S2A_MSIL2A_20180820T223011_T60KWE_B08_10m.tif\n",
      "./S2_Download/S2A_MSIL2A_20180820T223011_N0206_R072_T60KWE_20180821T013410.SAFE/GRANULE/L2A_T60KWE_A016514_20180820T223008/IMG_DATA/R10m/T60KWE_20180820T223011_B03_10m.jp2 ./S2_ARD/S2A_MSIL2A_20180820T223011_T60KWE/S2A_MSIL2A_20180820T223011_T60KWE_B03_10m.tif\n",
      "./S2_Download/S2A_MSIL2A_20180820T223011_N0206_R072_T60KWE_20180821T013410.SAFE/GRANULE/L2A_T60KWE_A016514_20180820T223008/IMG_DATA/R10m/T60KWE_20180820T223011_WVP_10m.jp2 ./S2_ARD/S2A_MSIL2A_20180820T223011_T60KWE/S2A_MSIL2A_20180820T223011_T60KWE_WVP_10m.tif\n",
      "./S2_Download/S2A_MSIL2A_20180820T223011_N0206_R072_T60KWE_20180821T013410.SAFE/GRANULE/L2A_T60KWE_A016514_20180820T223008/IMG_DATA/R10m/T60KWE_20180820T223011_AOT_10m.jp2 ./S2_ARD/S2A_MSIL2A_20180820T223011_T60KWE/S2A_MSIL2A_20180820T223011_T60KWE_AOT_10m.tif\n",
      "./S2_Download/S2A_MSIL2A_20180820T223011_N0206_R072_T60KWE_20180821T013410.SAFE/GRANULE/L2A_T60KWE_A016514_20180820T223008/IMG_DATA/R20m/T60KWE_20180820T223011_B11_20m.jp2 ./S2_ARD/S2A_MSIL2A_20180820T223011_T60KWE/S2A_MSIL2A_20180820T223011_T60KWE_B11_20m.tif\n",
      "./S2_Download/S2A_MSIL2A_20180820T223011_N0206_R072_T60KWE_20180821T013410.SAFE/GRANULE/L2A_T60KWE_A016514_20180820T223008/IMG_DATA/R20m/T60KWE_20180820T223011_B07_20m.jp2 ./S2_ARD/S2A_MSIL2A_20180820T223011_T60KWE/S2A_MSIL2A_20180820T223011_T60KWE_B07_20m.tif\n",
      "./S2_Download/S2A_MSIL2A_20180820T223011_N0206_R072_T60KWE_20180821T013410.SAFE/GRANULE/L2A_T60KWE_A016514_20180820T223008/IMG_DATA/R20m/T60KWE_20180820T223011_B8A_20m.jp2 ./S2_ARD/S2A_MSIL2A_20180820T223011_T60KWE/S2A_MSIL2A_20180820T223011_T60KWE_B8A_20m.tif\n",
      "./S2_Download/S2A_MSIL2A_20180820T223011_N0206_R072_T60KWE_20180821T013410.SAFE/GRANULE/L2A_T60KWE_A016514_20180820T223008/IMG_DATA/R20m/T60KWE_20180820T223011_B06_20m.jp2 ./S2_ARD/S2A_MSIL2A_20180820T223011_T60KWE/S2A_MSIL2A_20180820T223011_T60KWE_B06_20m.tif\n",
      "./S2_Download/S2A_MSIL2A_20180820T223011_N0206_R072_T60KWE_20180821T013410.SAFE/GRANULE/L2A_T60KWE_A016514_20180820T223008/IMG_DATA/R20m/T60KWE_20180820T223011_SCL_20m.jp2 ./S2_ARD/S2A_MSIL2A_20180820T223011_T60KWE/S2A_MSIL2A_20180820T223011_T60KWE_SCL_20m.tif\n",
      "./S2_Download/S2A_MSIL2A_20180820T223011_N0206_R072_T60KWE_20180821T013410.SAFE/GRANULE/L2A_T60KWE_A016514_20180820T223008/IMG_DATA/R20m/T60KWE_20180820T223011_B12_20m.jp2 ./S2_ARD/S2A_MSIL2A_20180820T223011_T60KWE/S2A_MSIL2A_20180820T223011_T60KWE_B12_20m.tif\n",
      "./S2_Download/S2A_MSIL2A_20180820T223011_N0206_R072_T60KWE_20180821T013410.SAFE/GRANULE/L2A_T60KWE_A016514_20180820T223008/IMG_DATA/R20m/T60KWE_20180820T223011_B05_20m.jp2 ./S2_ARD/S2A_MSIL2A_20180820T223011_T60KWE/S2A_MSIL2A_20180820T223011_T60KWE_B05_20m.tif\n",
      "Copying original metadata file to cog dir: ./S2_ARD/S2A_MSIL2A_20180820T223011_T60KWE/S2A_MSIL2A_20180820T223011_T60KWE_MTD_MSIL2A.xml\n",
      "Preparing scene S2A_MSIL2A_20180820T223011_T60KWE\n",
      "Scene path ./S2_ARD/S2A_MSIL2A_20180820T223011_T60KWE/\n",
      "New uuid: 837c7b11-268b-59cf-bbd5-0fce31b29718\n",
      "Created yaml: ./S2_ARD/S2A_MSIL2A_20180820T223011_T60KWE/datacube-metadata.yaml\n",
      "Time: 2019-08-30 08:22:04\n"
     ]
    }
   ],
   "source": [
    "while not q.empty():\n",
    "    item = q.lease(lease_secs=10, block=True, timeout=2) \n",
    "    if item is not None:\n",
    "        itemstr = item.decode(\"utf=8\")\n",
    "        print(\"Working on \" + itemstr)\n",
    "        #time.sleep(10) # Put your actual work here instead of sleep.\n",
    "        process_scene(itemstr)\n",
    "        q.complete(item)\n",
    "    else:\n",
    "        print(\"Waiting for work\")"
   ]
  },
  {
   "cell_type": "code",
   "execution_count": 7,
   "metadata": {},
   "outputs": [
    {
     "name": "stdout",
     "output_type": "stream",
     "text": [
      "Queue empty!\n"
     ]
    }
   ],
   "source": [
    "print(\"Queue empty!\")"
   ]
  }
 ],
 "metadata": {
  "kernelspec": {
   "display_name": "Python 3",
   "language": "python",
   "name": "python3"
  },
  "language_info": {
   "codemirror_mode": {
    "name": "ipython",
    "version": 3
   },
   "file_extension": ".py",
   "mimetype": "text/x-python",
   "name": "python",
   "nbconvert_exporter": "python",
   "pygments_lexer": "ipython3",
   "version": "3.7.3"
  }
 },
 "nbformat": 4,
 "nbformat_minor": 2
}
